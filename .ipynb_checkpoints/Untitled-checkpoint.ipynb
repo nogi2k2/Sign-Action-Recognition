{
 "cells": [
  {
   "cell_type": "code",
   "execution_count": 6,
   "id": "4299241b",
   "metadata": {},
   "outputs": [
    {
     "name": "stdout",
     "output_type": "stream",
     "text": [
      "Requirement already satisfied: tensorflow in c:\\users\\nogi2\\appdata\\local\\programs\\python\\python39\\lib\\site-packages (2.10.0)\n",
      "Requirement already satisfied: tensorflow-gpu in c:\\users\\nogi2\\appdata\\local\\programs\\python\\python39\\lib\\site-packages (2.10.0)\n",
      "Requirement already satisfied: opencv-python in c:\\users\\nogi2\\appdata\\local\\programs\\python\\python39\\lib\\site-packages (4.6.0.66)\n",
      "Collecting sklearn\n",
      "  Downloading sklearn-0.0.post1.tar.gz (3.6 kB)\n",
      "  Preparing metadata (setup.py): started\n",
      "  Preparing metadata (setup.py): finished with status 'done'\n",
      "Requirement already satisfied: matplotlib in c:\\users\\nogi2\\appdata\\local\\programs\\python\\python39\\lib\\site-packages (3.5.0)\n",
      "Requirement already satisfied: h5py>=2.9.0 in c:\\users\\nogi2\\appdata\\local\\programs\\python\\python39\\lib\\site-packages (from tensorflow) (3.7.0)\n",
      "Requirement already satisfied: packaging in c:\\users\\nogi2\\appdata\\local\\programs\\python\\python39\\lib\\site-packages (from tensorflow) (21.3)\n",
      "Requirement already satisfied: astunparse>=1.6.0 in c:\\users\\nogi2\\appdata\\local\\programs\\python\\python39\\lib\\site-packages (from tensorflow) (1.6.3)\n",
      "Requirement already satisfied: protobuf<3.20,>=3.9.2 in c:\\users\\nogi2\\appdata\\roaming\\python\\python39\\site-packages (from tensorflow) (3.19.3)\n",
      "Requirement already satisfied: tensorflow-estimator<2.11,>=2.10.0 in c:\\users\\nogi2\\appdata\\local\\programs\\python\\python39\\lib\\site-packages (from tensorflow) (2.10.0)\n",
      "Requirement already satisfied: termcolor>=1.1.0 in c:\\users\\nogi2\\appdata\\roaming\\python\\python39\\site-packages (from tensorflow) (1.1.0)\n",
      "Requirement already satisfied: six>=1.12.0 in c:\\users\\nogi2\\appdata\\local\\programs\\python\\python39\\lib\\site-packages (from tensorflow) (1.16.0)\n",
      "Requirement already satisfied: tensorflow-io-gcs-filesystem>=0.23.1 in c:\\users\\nogi2\\appdata\\roaming\\python\\python39\\site-packages (from tensorflow) (0.23.1)\n",
      "Requirement already satisfied: typing-extensions>=3.6.6 in c:\\users\\nogi2\\appdata\\local\\programs\\python\\python39\\lib\\site-packages (from tensorflow) (4.3.0)\n",
      "Requirement already satisfied: flatbuffers>=2.0 in c:\\users\\nogi2\\appdata\\local\\programs\\python\\python39\\lib\\site-packages (from tensorflow) (2.0.7)\n",
      "Requirement already satisfied: gast<=0.4.0,>=0.2.1 in c:\\users\\nogi2\\appdata\\local\\programs\\python\\python39\\lib\\site-packages (from tensorflow) (0.4.0)\n",
      "Requirement already satisfied: keras-preprocessing>=1.1.1 in c:\\users\\nogi2\\appdata\\local\\programs\\python\\python39\\lib\\site-packages (from tensorflow) (1.1.2)\n",
      "Requirement already satisfied: setuptools in c:\\users\\nogi2\\appdata\\roaming\\python\\python39\\site-packages (from tensorflow) (60.5.0)\n",
      "Requirement already satisfied: tensorboard<2.11,>=2.10 in c:\\users\\nogi2\\appdata\\local\\programs\\python\\python39\\lib\\site-packages (from tensorflow) (2.10.0)\n",
      "Requirement already satisfied: absl-py>=1.0.0 in c:\\users\\nogi2\\appdata\\local\\programs\\python\\python39\\lib\\site-packages (from tensorflow) (1.2.0)\n",
      "Requirement already satisfied: numpy>=1.20 in c:\\users\\nogi2\\appdata\\local\\programs\\python\\python39\\lib\\site-packages (from tensorflow) (1.22.4)\n",
      "Requirement already satisfied: grpcio<2.0,>=1.24.3 in c:\\users\\nogi2\\appdata\\local\\programs\\python\\python39\\lib\\site-packages (from tensorflow) (1.48.1)\n",
      "Requirement already satisfied: libclang>=13.0.0 in c:\\users\\nogi2\\appdata\\local\\programs\\python\\python39\\lib\\site-packages (from tensorflow) (14.0.6)\n",
      "Requirement already satisfied: opt-einsum>=2.3.2 in c:\\users\\nogi2\\appdata\\local\\programs\\python\\python39\\lib\\site-packages (from tensorflow) (3.3.0)\n",
      "Requirement already satisfied: google-pasta>=0.1.1 in c:\\users\\nogi2\\appdata\\local\\programs\\python\\python39\\lib\\site-packages (from tensorflow) (0.2.0)\n",
      "Requirement already satisfied: wrapt>=1.11.0 in c:\\users\\nogi2\\appdata\\local\\programs\\python\\python39\\lib\\site-packages (from tensorflow) (1.14.1)\n",
      "Requirement already satisfied: keras<2.11,>=2.10.0 in c:\\users\\nogi2\\appdata\\local\\programs\\python\\python39\\lib\\site-packages (from tensorflow) (2.10.0)\n",
      "Requirement already satisfied: kiwisolver>=1.0.1 in c:\\users\\nogi2\\appdata\\local\\programs\\python\\python39\\lib\\site-packages (from matplotlib) (1.3.2)\n",
      "Requirement already satisfied: pyparsing>=2.2.1 in c:\\users\\nogi2\\appdata\\local\\programs\\python\\python39\\lib\\site-packages (from matplotlib) (3.0.9)\n",
      "Requirement already satisfied: pillow>=6.2.0 in c:\\users\\nogi2\\appdata\\local\\programs\\python\\python39\\lib\\site-packages (from matplotlib) (9.2.0)\n",
      "Requirement already satisfied: setuptools-scm>=4 in c:\\users\\nogi2\\appdata\\local\\programs\\python\\python39\\lib\\site-packages (from matplotlib) (6.3.2)\n",
      "Requirement already satisfied: cycler>=0.10 in c:\\users\\nogi2\\appdata\\local\\programs\\python\\python39\\lib\\site-packages (from matplotlib) (0.10.0)\n",
      "Requirement already satisfied: python-dateutil>=2.7 in c:\\users\\nogi2\\appdata\\local\\programs\\python\\python39\\lib\\site-packages (from matplotlib) (2.8.1)\n",
      "Requirement already satisfied: fonttools>=4.22.0 in c:\\users\\nogi2\\appdata\\local\\programs\\python\\python39\\lib\\site-packages (from matplotlib) (4.28.3)\n",
      "Requirement already satisfied: wheel<1.0,>=0.23.0 in c:\\users\\nogi2\\appdata\\roaming\\python\\python39\\site-packages (from astunparse>=1.6.0->tensorflow) (0.37.1)\n",
      "Requirement already satisfied: tomli>=1.0.0 in c:\\users\\nogi2\\appdata\\local\\programs\\python\\python39\\lib\\site-packages (from setuptools-scm>=4->matplotlib) (1.2.2)\n",
      "Requirement already satisfied: tensorboard-data-server<0.7.0,>=0.6.0 in c:\\users\\nogi2\\appdata\\roaming\\python\\python39\\site-packages (from tensorboard<2.11,>=2.10->tensorflow) (0.6.1)\n",
      "Requirement already satisfied: markdown>=2.6.8 in c:\\users\\nogi2\\appdata\\roaming\\python\\python39\\site-packages (from tensorboard<2.11,>=2.10->tensorflow) (3.3.6)\n",
      "Requirement already satisfied: tensorboard-plugin-wit>=1.6.0 in c:\\users\\nogi2\\appdata\\roaming\\python\\python39\\site-packages (from tensorboard<2.11,>=2.10->tensorflow) (1.8.1)\n",
      "Requirement already satisfied: werkzeug>=1.0.1 in c:\\users\\nogi2\\appdata\\local\\programs\\python\\python39\\lib\\site-packages (from tensorboard<2.11,>=2.10->tensorflow) (2.2.2)\n",
      "Requirement already satisfied: google-auth-oauthlib<0.5,>=0.4.1 in c:\\users\\nogi2\\appdata\\roaming\\python\\python39\\site-packages (from tensorboard<2.11,>=2.10->tensorflow) (0.4.6)\n",
      "Requirement already satisfied: requests<3,>=2.21.0 in c:\\users\\nogi2\\appdata\\roaming\\python\\python39\\site-packages (from tensorboard<2.11,>=2.10->tensorflow) (2.27.1)\n",
      "Requirement already satisfied: google-auth<3,>=1.6.3 in c:\\users\\nogi2\\appdata\\roaming\\python\\python39\\site-packages (from tensorboard<2.11,>=2.10->tensorflow) (2.3.3)\n",
      "Requirement already satisfied: cachetools<5.0,>=2.0.0 in c:\\users\\nogi2\\appdata\\roaming\\python\\python39\\site-packages (from google-auth<3,>=1.6.3->tensorboard<2.11,>=2.10->tensorflow) (4.2.4)\n",
      "Requirement already satisfied: rsa<5,>=3.1.4 in c:\\users\\nogi2\\appdata\\roaming\\python\\python39\\site-packages (from google-auth<3,>=1.6.3->tensorboard<2.11,>=2.10->tensorflow) (4.8)\n",
      "Requirement already satisfied: pyasn1-modules>=0.2.1 in c:\\users\\nogi2\\appdata\\roaming\\python\\python39\\site-packages (from google-auth<3,>=1.6.3->tensorboard<2.11,>=2.10->tensorflow) (0.2.8)\n",
      "Requirement already satisfied: requests-oauthlib>=0.7.0 in c:\\users\\nogi2\\appdata\\roaming\\python\\python39\\site-packages (from google-auth-oauthlib<0.5,>=0.4.1->tensorboard<2.11,>=2.10->tensorflow) (1.3.0)\n",
      "Requirement already satisfied: importlib-metadata>=4.4 in c:\\users\\nogi2\\appdata\\roaming\\python\\python39\\site-packages (from markdown>=2.6.8->tensorboard<2.11,>=2.10->tensorflow) (4.10.1)\n",
      "Requirement already satisfied: urllib3<1.27,>=1.21.1 in c:\\users\\nogi2\\appdata\\roaming\\python\\python39\\site-packages (from requests<3,>=2.21.0->tensorboard<2.11,>=2.10->tensorflow) (1.26.8)\n",
      "Requirement already satisfied: certifi>=2017.4.17 in c:\\users\\nogi2\\appdata\\roaming\\python\\python39\\site-packages (from requests<3,>=2.21.0->tensorboard<2.11,>=2.10->tensorflow) (2021.10.8)\n",
      "Requirement already satisfied: charset-normalizer~=2.0.0 in c:\\users\\nogi2\\appdata\\roaming\\python\\python39\\site-packages (from requests<3,>=2.21.0->tensorboard<2.11,>=2.10->tensorflow) (2.0.10)\n",
      "Requirement already satisfied: idna<4,>=2.5 in c:\\users\\nogi2\\appdata\\roaming\\python\\python39\\site-packages (from requests<3,>=2.21.0->tensorboard<2.11,>=2.10->tensorflow) (3.3)\n",
      "Requirement already satisfied: MarkupSafe>=2.1.1 in c:\\users\\nogi2\\appdata\\local\\programs\\python\\python39\\lib\\site-packages (from werkzeug>=1.0.1->tensorboard<2.11,>=2.10->tensorflow) (2.1.1)\n",
      "Requirement already satisfied: zipp>=0.5 in c:\\users\\nogi2\\appdata\\roaming\\python\\python39\\site-packages (from importlib-metadata>=4.4->markdown>=2.6.8->tensorboard<2.11,>=2.10->tensorflow) (3.7.0)\n",
      "Requirement already satisfied: pyasn1<0.5.0,>=0.4.6 in c:\\users\\nogi2\\appdata\\roaming\\python\\python39\\site-packages (from pyasn1-modules>=0.2.1->google-auth<3,>=1.6.3->tensorboard<2.11,>=2.10->tensorflow) (0.4.8)\n",
      "Requirement already satisfied: oauthlib>=3.0.0 in c:\\users\\nogi2\\appdata\\roaming\\python\\python39\\site-packages (from requests-oauthlib>=0.7.0->google-auth-oauthlib<0.5,>=0.4.1->tensorboard<2.11,>=2.10->tensorflow) (3.1.1)\n",
      "Building wheels for collected packages: sklearn\n",
      "  Building wheel for sklearn (setup.py): started\n",
      "  Building wheel for sklearn (setup.py): finished with status 'done'\n",
      "  Created wheel for sklearn: filename=sklearn-0.0.post1-py3-none-any.whl size=2344 sha256=b8fd850b8586bf55eadb00ab83f2a1441c11275a8f16be76b856dece2894e00b\n",
      "  Stored in directory: c:\\users\\nogi2\\appdata\\local\\pip\\cache\\wheels\\03\\8b\\6f\\9f13c705de81a6b351b718b3cf917e41ad7c0933c8630d4dd4\n",
      "Successfully built sklearn\n",
      "Installing collected packages: sklearn\n",
      "Successfully installed sklearn-0.0.post1\n"
     ]
    }
   ],
   "source": [
    "!pip install tensorflow tensorflow-gpu opencv-python sklearn matplotlib"
   ]
  },
  {
   "cell_type": "code",
   "execution_count": 7,
   "id": "6c84d350",
   "metadata": {},
   "outputs": [
    {
     "name": "stderr",
     "output_type": "stream",
     "text": [
      "c:\\users\\nogi2\\appdata\\local\\programs\\python\\python39\\lib\\site-packages\\numpy\\_distributor_init.py:30: UserWarning: loaded more than 1 DLL from .libs:\n",
      "c:\\users\\nogi2\\appdata\\local\\programs\\python\\python39\\lib\\site-packages\\numpy\\.libs\\libopenblas.EL2C6PLE4ZYW3ECEVIV3OXXGRN2NRFM2.gfortran-win_amd64.dll\n",
      "c:\\users\\nogi2\\appdata\\local\\programs\\python\\python39\\lib\\site-packages\\numpy\\.libs\\libopenblas.XWYDX2IKJW2NMTWSFYNGFUWKQU3LYTCZ.gfortran-win_amd64.dll\n",
      "  warnings.warn(\"loaded more than 1 DLL from .libs:\"\n"
     ]
    }
   ],
   "source": [
    "import cv2\n",
    "import matplotlib.pyplot as plt\n",
    "import mediapipe as mp\n",
    "import numpy as np\n",
    "from scipy import stats\n",
    "import time\n",
    "import os\n",
    "\n",
    "from sklearn.model_selection import train_test_split\n",
    "from tensorflow.keras.utils import to_categorical\n",
    "\n",
    "from rensorflow.keras.models import load_model, Sequential\n",
    "from tensorflow.keras.layers import LSTM, Dense\n",
    "from tensorflow.keras.callbacks import TensorBoard, EarlyStopping"
   ]
  },
  {
   "cell_type": "code",
   "execution_count": 8,
   "id": "d21120c8",
   "metadata": {},
   "outputs": [],
   "source": [
    "mp_holistic = mp.solutions.holistic\n",
    "mp_drawing = mp.solutions.drawing_utils"
   ]
  },
  {
   "cell_type": "code",
   "execution_count": 19,
   "id": "5d50d249",
   "metadata": {},
   "outputs": [],
   "source": [
    "def mp_detection(image,model):\n",
    "    image=cv2.cvtColor(image,cv2.COLOR_BGR2RGB)\n",
    "    image.flags.writeable=False\n",
    "    results=model.process(image)\n",
    "    image.flags.writeable=True\n",
    "    image=cv2.cvtColor(image,cv2.COLOR_RGB2BGR)\n",
    "    return image,results\n",
    "\n",
    "def mp_draw(image,results):\n",
    "    mp_drawing.draw_landmarks(image,results.face_landmarks,mp_holistic.FACEMESH_TESSELATION,mp_drawing.DrawingSpec(color=(80,110,10), thickness=1, circle_radius=1), \n",
    "                             mp_drawing.DrawingSpec(color=(80,256,121), thickness=1, circle_radius=1))\n",
    "    mp_drawing.draw_landmarks(image,results.right_hand_landmarks,mp_holistic.HAND_CONNECTIONS, mp_drawing.DrawingSpec(color=(121,22,76), thickness=2, circle_radius=4), \n",
    "                             mp_drawing.DrawingSpec(color=(121,44,250), thickness=2, circle_radius=2))\n",
    "    mp_drawing.draw_landmarks(image,results.left_hand_landmarks,mp_holistic.HAND_CONNECTIONS,mp_drawing.DrawingSpec(color=(245,117,66), thickness=2, circle_radius=4), \n",
    "                             mp_drawing.DrawingSpec(color=(245,66,230), thickness=2, circle_radius=2))\n",
    "    mp_drawing.draw_landmarks(image,results.pose_landmarks,mp_holistic.POSE_CONNECTIONS, mp_drawing.DrawingSpec(color=(80,22,10), thickness=2, circle_radius=4), \n",
    "                             mp_drawing.DrawingSpec(color=(80,44,121), thickness=2, circle_radius=2))"
   ]
  },
  {
   "cell_type": "code",
   "execution_count": 20,
   "id": "edb10a3d",
   "metadata": {},
   "outputs": [],
   "source": [
    "# cap=cv2.VideoCapture(0)\n",
    "# with mp_holistic.Holistic(min_detection_confidence=0.5,min_tracking_confidence=0.5) as holistic:\n",
    "#     while cap.isOpened():\n",
    "#         ret, frame=cap.read()\n",
    "#         image,results=mp_detection(frame,holistic)\n",
    "#         mp_draw(image,results)\n",
    "#         cv2.imshow('Webcam',image)\n",
    "        \n",
    "#         if cv2.waitKey(10) & 0xFF == ord('q'):\n",
    "#             break\n",
    "#     cap.release()\n",
    "#     cv2.destroyAllWindows()"
   ]
  },
  {
   "cell_type": "code",
   "execution_count": 18,
   "id": "ffb3d926",
   "metadata": {},
   "outputs": [],
   "source": [
    "def extract_kp(results):\n",
    "    pose_kp=np.array([[res.x,res.y,res.z,res.visibility] for res in results.pose_landmarks.landmark]).flatten() if results.pose_landmarks else np.zeroes(33*4)\n",
    "    face_kp=np.array([[res.x,res.y,res.z] for res in results.face_landmarks.landmark]) if results.face_landmarks else np.zeroes(468*3)\n",
    "    lh_kp=np.array([[res.x,res.y,res.z] for res in results.left_hand_landmarks.landmark]) if results.left_hand_landmarks else np.zeroes(21*3)\n",
    "    rh_kp=np.array([[res.x,res.y,res.z] for res in results.right_hand_landmarks.landmark]) if results.right_hand_landmarks else np.zeroes(21*3)"
   ]
  },
  {
   "cell_type": "code",
   "execution_count": null,
   "id": "9a9ac206",
   "metadata": {},
   "outputs": [],
   "source": [
    "DATA_PATH=os.path.join('MP_Data')\n",
    "actions=np.array([])\n",
    "no_vid=30\n",
    "no_frames=30\n",
    "start_folder=30"
   ]
  },
  {
   "cell_type": "code",
   "execution_count": null,
   "id": "7a7aee00",
   "metadata": {},
   "outputs": [],
   "source": [
    "for act in actions:\n",
    "    dirmax=np.max(np.array(os.listdir(os.path.join(DATA_PATH,act))).astype(int))\n",
    "    for vid in range(0,1+no_vid):\n",
    "        try:\n",
    "            os.makedirs(os.path.join(DATA_PATH,act,str(dirmax+vid)))\n",
    "        except:\n",
    "            pass"
   ]
  },
  {
   "cell_type": "markdown",
   "id": "9a7153c7",
   "metadata": {},
   "source": [
    "# Training Data Collection:"
   ]
  },
  {
   "cell_type": "code",
   "execution_count": null,
   "id": "b300d11b",
   "metadata": {},
   "outputs": [],
   "source": [
    "cap=cv2.VideoCapture(0)\n",
    "with mp_holistic.Holistic(min_detection_confidence=0.5,min_tracking_confidence=0.5) as holistic:\n",
    "    for vid in range(start_folder,start_folder+no_vid):\n",
    "        for frame_num in range(no_frames):\n",
    "            ret, frame=cap.read()\n",
    "            image,results=mp_detection(frame,holistic)\n",
    "            mp_draw(image,results)\n",
    "            \n",
    "            if frame_num==0:\n",
    "                cv2.putText(image,'Starting Collection',(120,200),cv2.FONT_HERSHEY_SIMPLEX),1,(0,25,0),4,cv2.LINE_AA)\n",
    "                cv2.putText(image,f'Collecting frames for {action} Video Number: {vid}',(15,12),cv2.FONT_HERSHEY_SIMPLEX,0.5,1,cv2.LINE_AA)\n",
    "                cv2.imshow('Webcam',image)\n",
    "                cv2.waitKey(4000)\n",
    "            else:\n",
    "                cv2.putText(image,f'Collecting frames for {action} Video Number: {vid}',(15,12),cv2.FONT_HERSHEY_SIMPLEX,0.5,1,cv2.LINE_AA)\n",
    "                cv2.imshow('Webcam',image)\n",
    "                \n",
    "            kp = extract_kp(results)\n",
    "            np_path=os.path.join(DATA_PATH,action,str(vid),str(frame_num))\n",
    "            np.save(np_path,kp)\n",
    "            \n",
    "            if cv2.waitKey(10) & 0xFF == ord('q'):\n",
    "                break\n",
    "    cap.release()\n",
    "    cv2.destroyAllWindows()"
   ]
  },
  {
   "cell_type": "markdown",
   "id": "003f321e",
   "metadata": {},
   "source": [
    "# Preprocessing Sequential Numpy-Keypoint Data:"
   ]
  },
  {
   "cell_type": "code",
   "execution_count": null,
   "id": "bc1c3c27",
   "metadata": {},
   "outputs": [],
   "source": [
    "label_map={label:id for id,label in enumerate(actions)}\n",
    "label_map\n",
    "\n",
    "vids,labels=[], []\n",
    "for act in actions:\n",
    "    for vid in np.array(os.listdir(os.path.join(DATA_PATH,action))).astype(int):\n",
    "        window=[]\n",
    "        for frame_num in range(no_frames):\n",
    "            res=np.load(os.path.join(DATA_PATH,action,str(vid),f'{frame_num}.npy'))\n",
    "            window.append(res)\n",
    "        vids.append(window)\n",
    "        labels.append(label_map[act])"
   ]
  },
  {
   "cell_type": "code",
   "execution_count": null,
   "id": "0ceaa664",
   "metadata": {},
   "outputs": [],
   "source": [
    "X=np.array(vids)\n",
    "Y=to_categorical(labels).astype(int)\n",
    "#X_train,X_test,Y_train,Y_test=train_test_split(X,Y,test_size=0.05)"
   ]
  },
  {
   "cell_type": "markdown",
   "id": "45c6d9df",
   "metadata": {},
   "source": [
    "# LSTM Neural Net:"
   ]
  },
  {
   "cell_type": "code",
   "execution_count": null,
   "id": "90c69031",
   "metadata": {},
   "outputs": [],
   "source": [
    "log_dir=os.path.join('Logs')\n",
    "tb = TensorBoard(log_dir=log_dir)\n",
    "es = EarlyStopping(monitor='categorical_accuracy', patience=5)"
   ]
  },
  {
   "cell_type": "code",
   "execution_count": null,
   "id": "03d28e02",
   "metadata": {},
   "outputs": [],
   "source": [
    "model = Sequential()\n",
    "model.add(LSTM(64, return_sequences=True, activation='relu', input_shape=(30,1662)))\n",
    "mode;.add(LSTM(128, return_sequences=True, activation='relu'))\n",
    "model.add(LSTM(64, return_sequences=False, activation='relu'))\n",
    "model.add(Dense(64, activation='relu'))\n",
    "model.add(Dense(32, activation='relu'))\n",
    "model.add(Dense(actions.shape()[0], activation='softmax'))\n",
    "\n",
    "model.compile(optimizer='Adam', loss='categorical_crossentropy', metrics=['categorical_accuracy'])"
   ]
  },
  {
   "cell_type": "markdown",
   "id": "cc7639f8",
   "metadata": {},
   "source": [
    "model.summary()"
   ]
  },
  {
   "cell_type": "code",
   "execution_count": null,
   "id": "862a43bd",
   "metadata": {},
   "outputs": [],
   "source": [
    "model.fit(X, Y, epochs=500, callbacks=[tb,es])"
   ]
  },
  {
   "cell_type": "code",
   "execution_count": null,
   "id": "b582cc53",
   "metadata": {},
   "outputs": [],
   "source": [
    "model.save('detector.h5')"
   ]
  }
 ],
 "metadata": {
  "kernelspec": {
   "display_name": "Python 3",
   "language": "python",
   "name": "python3"
  },
  "language_info": {
   "codemirror_mode": {
    "name": "ipython",
    "version": 3
   },
   "file_extension": ".py",
   "mimetype": "text/x-python",
   "name": "python",
   "nbconvert_exporter": "python",
   "pygments_lexer": "ipython3",
   "version": "3.9.4"
  }
 },
 "nbformat": 4,
 "nbformat_minor": 5
}
